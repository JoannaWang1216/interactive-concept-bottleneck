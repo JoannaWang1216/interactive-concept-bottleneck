{
 "cells": [
  {
   "cell_type": "code",
   "execution_count": 1,
   "metadata": {},
   "outputs": [
    {
     "name": "stdout",
     "output_type": "stream",
     "text": [
      "Shape of X [N, C, H, W]: torch.Size([32, 3, 299, 299])\n",
      "Shape of y: torch.Size([32]) torch.int64\n"
     ]
    }
   ],
   "source": [
    "from torch.utils.data import DataLoader\n",
    "from concept_model.dataset import CUBImageToClass\n",
    "\n",
    "batch_size = 32\n",
    "num_workers = 2\n",
    "\n",
    "test_data = CUBImageToClass(train=False)\n",
    "test_dataloader = DataLoader(test_data, batch_size=batch_size, num_workers=num_workers)\n",
    "\n",
    "for X, y in test_dataloader:\n",
    "    print(f\"Shape of X [N, C, H, W]: {X.shape}\")\n",
    "    print(f\"Shape of y: {y.shape} {y.dtype}\")\n",
    "    break\n"
   ]
  },
  {
   "cell_type": "code",
   "execution_count": 2,
   "metadata": {},
   "outputs": [
    {
     "name": "stderr",
     "output_type": "stream",
     "text": [
      "Using cache found in /home/joanna/.cache/torch/hub/pytorch_vision_v0.10.0\n",
      "/home/joanna/interactive-concept-bottleneck/.venv/lib/python3.10/site-packages/torchvision/models/inception.py:43: FutureWarning: The default weight initialization of inception_v3 will be changed in future releases of torchvision. If you wish to keep the old behavior (which leads to long initialization times due to scipy/scipy#11299), please set init_weights=True.\n",
      "  warnings.warn(\n"
     ]
    },
    {
     "name": "stdout",
     "output_type": "stream",
     "text": [
      "Using cuda device\n"
     ]
    }
   ],
   "source": [
    "import torch\n",
    "from concept_model.inference import ImageToAttributesModel, AttributesToClassModel\n",
    "\n",
    "image_to_attributes_model = ImageToAttributesModel(\n",
    "    \"independent_image_to_attributes.pth\"\n",
    ").model\n",
    "attributes_to_class_model = AttributesToClassModel(\n",
    "    \"independent_attributes_to_class.pth\"\n",
    ").model\n",
    "\n",
    "device = \"cuda\" if torch.cuda.is_available() else \"cpu\"\n",
    "print(\"Using {} device\".format(device))\n"
   ]
  },
  {
   "cell_type": "code",
   "execution_count": 3,
   "metadata": {},
   "outputs": [],
   "source": [
    "def test(dataloader, image_to_attributes_model, attributes_to_class_model, loss_fn):\n",
    "    size = len(dataloader.dataset)\n",
    "    num_batches = len(dataloader)\n",
    "    image_to_attributes_model.eval()\n",
    "    attributes_to_class_model.eval()\n",
    "    test_loss, correct = 0, 0\n",
    "    with torch.no_grad():\n",
    "        for X, y in dataloader:\n",
    "            X, y = image_to_attributes_model(X.to(device)), y.to(device)\n",
    "            pred = attributes_to_class_model(torch.nn.Sigmoid()(X))\n",
    "            test_loss += loss_fn(pred, y).item()\n",
    "            correct += (pred.argmax(1) == y).type(torch.float).sum().item()\n",
    "    test_loss /= num_batches\n",
    "    correct /= size\n",
    "    return test_loss, correct\n"
   ]
  },
  {
   "cell_type": "code",
   "execution_count": 4,
   "metadata": {},
   "outputs": [
    {
     "name": "stdout",
     "output_type": "stream",
     "text": [
      "Test loss for independent model: 3.474282\n",
      "Test accuracy for independent model: 25.73%\n"
     ]
    }
   ],
   "source": [
    "test_loss, correct = test(\n",
    "    test_dataloader,\n",
    "    image_to_attributes_model,\n",
    "    attributes_to_class_model,\n",
    "    torch.nn.CrossEntropyLoss(),\n",
    ")\n",
    "print(f\"Test loss for independent model: {test_loss:>8f}\")\n",
    "print(f\"Test accuracy for independent model: {100 * correct:>0.2f}%\")\n"
   ]
  }
 ],
 "metadata": {
  "kernelspec": {
   "display_name": "Python 3.10.8 ('.venv': poetry)",
   "language": "python",
   "name": "python3"
  },
  "language_info": {
   "codemirror_mode": {
    "name": "ipython",
    "version": 3
   },
   "file_extension": ".py",
   "mimetype": "text/x-python",
   "name": "python",
   "nbconvert_exporter": "python",
   "pygments_lexer": "ipython3",
   "version": "3.10.8"
  },
  "orig_nbformat": 4,
  "vscode": {
   "interpreter": {
    "hash": "b5aff9b338e2feb824080405e67a5c92dbce3d494c897e66331f024c87495a0f"
   }
  }
 },
 "nbformat": 4,
 "nbformat_minor": 2
}
